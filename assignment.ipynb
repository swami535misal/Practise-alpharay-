{
 "cells": [
  {
   "cell_type": "markdown",
   "metadata": {},
   "source": [
    "Two Number Sum\n",
    "Write a function that takes in a non-empty array of distinct integers and an integer representing a target sum. If any two numbers in the input array sum up to the target sum, the function should return them in an array, in any order. If no two numbers sum up to the target sum, the function should return an empty array.\n",
    "\n",
    "Note that the target sum has to be obtained by summing two different integers in the array; you can't add a single integer to itself in order to obtain the target sum.\n",
    "\n",
    "You can assume that there will be at most one pair of numbers summing up to the target sum.\n",
    "\n",
    "sample input = [3, 5, -4, 8, 11, 1, -1, 6] targetsum = 10 sample output = [-1, 11]"
   ]
  },
  {
   "cell_type": "code",
   "execution_count": 1,
   "metadata": {},
   "outputs": [
    {
     "name": "stdout",
     "output_type": "stream",
     "text": [
      "[5, 5, 11, -1, -1, 11]\n"
     ]
    }
   ],
   "source": [
    "A=[3, 5, -4, 8, 11, 1, -1, 6]\n",
    "c=[]\n",
    "for x in A:\n",
    "    for y in A:\n",
    "        if x+y==10:\n",
    "            c.append(x)\n",
    "            c.append(y)\n",
    "print(c)            "
   ]
  },
  {
   "cell_type": "code",
   "execution_count": 2,
   "metadata": {},
   "outputs": [
    {
     "name": "stdout",
     "output_type": "stream",
     "text": [
      "[-1, 11]\n"
     ]
    }
   ],
   "source": [
    "A=[3, 5, -4, 8, 11, 1, -1, 6]\n",
    "c=[]\n",
    "for x in A:\n",
    "    for y in A:\n",
    "        if x+y==10:\n",
    "            a=[x,y]\n",
    "print(a)            "
   ]
  },
  {
   "cell_type": "markdown",
   "metadata": {},
   "source": [
    "Print the even number from the list a = [ 1,2,3,4,5,6,7,8]"
   ]
  },
  {
   "cell_type": "code",
   "execution_count": 3,
   "metadata": {},
   "outputs": [
    {
     "name": "stdout",
     "output_type": "stream",
     "text": [
      "[2, 4, 6, 8]\n"
     ]
    }
   ],
   "source": [
    "a=[1,2,3,4,5,6,7,8]\n",
    "b=[]\n",
    "for i in a:\n",
    "    if i%2==0:\n",
    "        b.append(i)\n",
    "print(b)     "
   ]
  },
  {
   "cell_type": "markdown",
   "metadata": {},
   "source": [
    "A = [1,3,5,10,15,30,45,66] if a element is divided by 3 print foo, if a element is divided by 5 print bar if a element is divided by both 5&3 print foobar."
   ]
  },
  {
   "cell_type": "code",
   "execution_count": 4,
   "metadata": {},
   "outputs": [
    {
     "name": "stdout",
     "output_type": "stream",
     "text": [
      "1 other number\n",
      "3 foo\n",
      "5 bar\n",
      "10 bar\n",
      "15 foo\n",
      "30 foo\n",
      "45 foo\n",
      "66 foo\n"
     ]
    }
   ],
   "source": [
    "A=[1,3,5,10,15,30,45,66]\n",
    "for i in A:\n",
    "    if i%3==0:\n",
    "        print(i,'foo')\n",
    "    elif i%5==0:\n",
    "        print(i,'bar')\n",
    "    elif i%3==0 and i%5==0:\n",
    "        print(i,'foobar')\n",
    "    else:\n",
    "        print(i,'other number')"
   ]
  },
  {
   "cell_type": "markdown",
   "metadata": {},
   "source": [
    "make a calculator"
   ]
  },
  {
   "cell_type": "code",
   "execution_count": null,
   "metadata": {},
   "outputs": [],
   "source": [
    "def addition(num1,num2):\n",
    "    c=num1+num2\n",
    "    return '{0}+{1}={2}'.format(num1,num2,c)\n",
    "\n",
    "def substraction(num1,num2):\n",
    "    c=num1-num2\n",
    "    return '{0}-{1}={2}'.format(num1,num2,c)\n",
    "\n",
    "def multiplication(num1,num2):\n",
    "    c=num1*num2\n",
    "    return '{0}*{1}={2}'.format(num1,num2,c)\n",
    "\n",
    "def division(num1,num2):\n",
    "    c=num1/num2\n",
    "    return '{0}/{1}={2}'.format(num1,num2,c)\n",
    "print('what do you want')\n",
    "print('1 addition')\n",
    "print('2 substraction')\n",
    "print('3 multiplication')\n",
    "print('4 division')\n",
    "\n",
    "choise=input('enter your choise :')\n",
    "\n",
    "num1=float(input('enter a number :'))\n",
    "num2=float(input('enter a number :'))\n",
    "\n",
    "if choise=='1':\n",
    "    k=addition(num1,num2)\n",
    "    print(k)\n",
    "elif choise=='2':\n",
    "    k=substraction(num1,num2)\n",
    "    print(k)\n",
    "elif choise=='3':\n",
    "    k=multiplication(num1,num2)\n",
    "    print(k)\n",
    "elif choise=='4':\n",
    "    k=division(num1,num2)\n",
    "    print(k)\n",
    "else:\n",
    "    print('invalid choise')"
   ]
  }
 ],
 "metadata": {
  "kernelspec": {
   "display_name": "Python 3",
   "language": "python",
   "name": "python3"
  },
  "language_info": {
   "codemirror_mode": {
    "name": "ipython",
    "version": 3
   },
   "file_extension": ".py",
   "mimetype": "text/x-python",
   "name": "python",
   "nbconvert_exporter": "python",
   "pygments_lexer": "ipython3",
   "version": "3.7.4"
  }
 },
 "nbformat": 4,
 "nbformat_minor": 2
}
